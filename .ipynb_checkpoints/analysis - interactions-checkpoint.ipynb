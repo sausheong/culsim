{
 "cells": [
  {
   "cell_type": "code",
   "execution_count": null,
   "metadata": {},
   "outputs": [],
   "source": [
    "import matplotlib.pyplot as plt\n",
    "import numpy as np\n",
    "import pandas as pd\n",
    "%matplotlib inline\n",
    "\n",
    "plt.rcParams[\"figure.figsize\"] = [10,8]\n",
    "\n",
    "items = [\"100\", \"500\", \"1000\", \"1500\"]\n",
    "source = []\n",
    "for i in items:\n",
    "    source.append(pd.read_csv(\"data/log-n\" + i + \"-t500-w36-c1.0.csv\", index_col=0, header=None).transpose())\n"
   ]
  },
  {
   "cell_type": "code",
   "execution_count": null,
   "metadata": {},
   "outputs": [],
   "source": [
    "distance = []\n",
    "\n",
    "for s in source:\n",
    "    distance.append(s['distance'].tolist())\n",
    "\n",
    "a = np.array(list(range(0,len(distance[0]))))\n",
    "x = a.astype(float)\n",
    "\n",
    "for d, i  in zip(distance, items):\n",
    "    plt.plot(x, d, label='n='+i)\n",
    "\n",
    "plt.legend()\n",
    "plt.show()"
   ]
  },
  {
   "cell_type": "code",
   "execution_count": null,
   "metadata": {},
   "outputs": [],
   "source": [
    "unique = []\n",
    "\n",
    "for s in source:\n",
    "    unique.append(s['unique'].tolist())\n",
    "\n",
    "for u, i  in zip(unique, items):\n",
    "    plt.plot(x, u, label='n='+i)\n",
    "\n",
    "plt.legend()\n",
    "plt.show()"
   ]
  },
  {
   "cell_type": "code",
   "execution_count": null,
   "metadata": {},
   "outputs": [],
   "source": [
    "change = []\n",
    "\n",
    "for s in source:\n",
    "    change.append(s['change'].tolist())\n",
    "\n",
    "for c, i  in zip(change, items):\n",
    "    plt.plot(x, c, label='n='+i)\n",
    "\n",
    "plt.legend()\n",
    "plt.show()"
   ]
  }
 ],
 "metadata": {
  "kernelspec": {
   "display_name": "Python 3",
   "language": "python",
   "name": "python3"
  },
  "language_info": {
   "codemirror_mode": {
    "name": "ipython",
    "version": 3
   },
   "file_extension": ".py",
   "mimetype": "text/x-python",
   "name": "python",
   "nbconvert_exporter": "python",
   "pygments_lexer": "ipython3",
   "version": "3.6.8"
  }
 },
 "nbformat": 4,
 "nbformat_minor": 2
}
